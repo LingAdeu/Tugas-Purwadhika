{
 "cells": [
  {
   "cell_type": "markdown",
   "metadata": {},
   "source": [
    "## Question #1\n",
    "\n",
    "Imagine that a vanquished dragon’s loot is represented as a list of strings like `dragonLoot`. Write a function named `addToInventory(inventory, addedItems)`, where the inventory parameter is a dictionary representing the player’s inventory (like in the previous project) and the addedItems parameter is a list like dragonLoot. The `addToInventory()` function should return a dictionary that represents the updated inventory. Note that the addedItems list can contain multiples of the same item.\n",
    "\n",
    "```python\n",
    "inventory = {'gold coin': 42, 'rope': 1}\n",
    "dragonLoot = ['gold coin', 'dagger', 'gold coin', 'gold coin', 'ruby']\n",
    "addToInventory(inventory, addedItems)\n",
    "\n",
    "Inventory:\n",
    "45 gold coin\n",
    "1 rope\n",
    "1 ruby\n",
    "1 dagger\n",
    "\n",
    "Total number of items: 48\n",
    "```"
   ]
  },
  {
   "cell_type": "code",
   "execution_count": 3,
   "metadata": {},
   "outputs": [
    {
     "name": "stdout",
     "output_type": "stream",
     "text": [
      "Inventory:\n",
      "45 gold coin\n",
      "1 rope\n",
      "1 dagger\n",
      "1 ruby\n",
      "Total: 48\n"
     ]
    }
   ],
   "source": [
    "inventory = {'gold coin': 42, 'rope': 1}\n",
    "dragonLoot = ['gold coin', 'dagger', 'gold coin', 'gold coin', 'ruby']\n",
    "\n",
    "def addToInventory(inventory, addedItems):\n",
    "    for item in addedItems:\n",
    "        if item in inventory.keys():\n",
    "            inventory[item] += 1\n",
    "        else:\n",
    "            inventory[item] = 1\n",
    "    \n",
    "    print('Inventory:')\n",
    "    for key, value in inventory.items():\n",
    "        print(f'{value} {key}')\n",
    "\n",
    "    print(f'Total: {sum(inventory.values())}')\n",
    "\n",
    "addToInventory(inventory, dragonLoot)"
   ]
  },
  {
   "cell_type": "markdown",
   "metadata": {},
   "source": [
    "\n",
    "## Question #2\n",
    "\n",
    "Write a function named `repeatingCount(text)`, where the `text` parameter is a string. Return the first non-repeating character and repeating character that appear in the string.\n",
    "\n",
    "```python\n",
    "text = \"123PurwadhikaHeroesHeroes\"\n",
    "repeatingCount(text)\n",
    " \n",
    "Non-repeating character: 1\n",
    "Repeating character: r\n",
    "```"
   ]
  },
  {
   "cell_type": "code",
   "execution_count": 5,
   "metadata": {},
   "outputs": [
    {
     "name": "stdout",
     "output_type": "stream",
     "text": [
      "repeating char: r\n",
      "Non-repeating char: 1\n"
     ]
    }
   ],
   "source": [
    "# Q2\n",
    "\n",
    "text = \"123PurwadhikaHeroesHeroes\"\n",
    "def repeatingCount(text):\n",
    "    d = {}\n",
    "    for char in text:\n",
    "        if char in d.keys():\n",
    "            d[char] += 1\n",
    "        else:\n",
    "            d[char] = 1\n",
    "\n",
    "    repeating = None\n",
    "    for char in d.keys():\n",
    "        if d[char] > 1:\n",
    "            repeating = char\n",
    "            print(f'repeating char: {repeating}')\n",
    "            break\n",
    "\n",
    "    nonRepeating = None\n",
    "    for char in d.keys():\n",
    "        if d[char] == 1:\n",
    "            nonRepeating = char\n",
    "            print(f'Non-repeating char: {nonRepeating}')\n",
    "            break\n",
    "\n",
    "repeatingCount(text)"
   ]
  },
  {
   "cell_type": "markdown",
   "metadata": {},
   "source": [
    "## Question #3\n",
    "\n",
    "Given a string `text`, the task is to check if every vowel is present or not. We consider a vowel to be present if it is present in upper case or lower case. i.e. a, e, i, o, u or A, E, I, O, U. Your solution is correct if the following assert statements’ conditions are all True:\n",
    "\n",
    "```python\n",
    "assert check('sEEquOiaL') == True\n",
    "assert check('Squ0iaL') == False\n",
    "assert check('') == False\n",
    "```"
   ]
  },
  {
   "cell_type": "markdown",
   "metadata": {},
   "source": [
    "## Question #4\n",
    "\n",
    "Given a string `text` of lower case characters. Write a `checkHeterogram()`function to check whether a the given string is Heterogram or not. A heterogram is a word, phrase, or sentence in which no letter of the alphabet occurs more than once. Your solution is correct if the following assert statements’ conditions are all True:\n",
    "\n",
    "```python\n",
    "assert cekHeterogram('purwadhika jogja') == False\n",
    "assert cekHeterogram('jcds 0210') == True\n",
    "assert cekHeterogram('  ') == True\n",
    "```"
   ]
  },
  {
   "cell_type": "markdown",
   "metadata": {},
   "source": [
    "## Question #5\n",
    "\n",
    "In Python, the values 15 and '15' are two different values: you can perform mathematics on the integer 15, but the string '15' is the same as any other two-character text string. You can perform mathematical addition on integer values, but not on strings. And you can concatenate or replicate string values, but not integers. A common programming task is to obtain the string equivalent of a number. **You can use the str() function to do this conversion but in this exercise you’ll recreate this function yourself.** Write a `convertInteger()` function with an integerNum parameter, the function works for all integers from -10000 to 9999. Your solution is correct if the following assert statements’ conditions are all True:\n",
    "\n",
    "```python\n",
    "assert convertInteger(0) == '0'\n",
    "assert convertInteger(150) == '150'\n",
    "assert convertInteger(1935) == '1935'\n",
    "assert convertInteger(-1234) == '-1234'\n",
    "```"
   ]
  },
  {
   "cell_type": "markdown",
   "metadata": {},
   "source": [
    "## Question #6\n",
    "\n",
    "The mode is the number that appears most frequently in a list of numbers. Together with the median and average, you can get a descriptive summary of a list of numbers. This exercise tests your ability to use a dictionary to keep a count of the numbers in a list to find the most frequent number. Write a `modeValue()` function that has a numbers parameter. This function returns the mode, or most frequently appearing number, of the list of integer and floating-point numbers passed to the function. Your solution is correct if the following assert statements’ conditions are all True:\n",
    "\n",
    "```python\n",
    "assert modeValue([]) == None\n",
    "assert modeValue([1, 2, 3, 4, 4]) == 4\n",
    "assert modeValue([1, 1, 2, 3, 4]) == 1\n",
    "assert modeValue([1.5, 1.4, 2.1, 3.3, 4.9]) == None\n",
    "```"
   ]
  },
  {
   "cell_type": "markdown",
   "metadata": {},
   "source": [
    "## Question #7\n",
    "\n",
    "Given a string `text` which contains lower alphabetic characters. Write a `checkBalance()` function to remove at most one character from this string in such a way that frequency of each distinct character becomes same in the string. Your solution is correct if the following assert statements’ conditions are all True:\n",
    "\n",
    "```python\n",
    "assert checkBalance('aa') == 'Yes'\n",
    "assert checkBalance('aabbb') == 'Yes'\n",
    "assert checkBalance('aabbbccc') == 'No'\n",
    "assert checkBalance('aabbbcccc') == 'No'\n",
    "```"
   ]
  },
  {
   "cell_type": "code",
   "execution_count": 8,
   "metadata": {},
   "outputs": [],
   "source": [
    "def checkBalance(text):\n",
    "    char_count = {}\n",
    "    for char in text:\n",
    "        char_count[char] = char_count.get(char, 0) + 1\n",
    "    \n",
    "    freq_count = {}\n",
    "    for count in char_count.values():\n",
    "        freq_count[count] = freq_count.get(count, 0) + 1\n",
    "    \n",
    "    if len(freq_count) == 1 or (len(freq_count) == 2 and (1 in freq_count.values() or 1 in freq_count.keys() and (freq_count[1] == 1 or freq_count[min(freq_count) + 1] == 1))):\n",
    "        return print(\"Yes\")\n",
    "    else:\n",
    "        return print(\"No\")"
   ]
  }
 ],
 "metadata": {
  "kernelspec": {
   "display_name": "Python 3",
   "language": "python",
   "name": "python3"
  },
  "language_info": {
   "codemirror_mode": {
    "name": "ipython",
    "version": 3
   },
   "file_extension": ".py",
   "mimetype": "text/x-python",
   "name": "python",
   "nbconvert_exporter": "python",
   "pygments_lexer": "ipython3",
   "version": "3.11.7"
  }
 },
 "nbformat": 4,
 "nbformat_minor": 2
}
