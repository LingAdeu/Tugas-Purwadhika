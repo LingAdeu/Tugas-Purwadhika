{
 "cells": [
  {
   "cell_type": "markdown",
   "metadata": {},
   "source": [
    "## Question #1\n",
    "\n",
    "Python’s built-in min() and max() functions return the smallest and biggest numbers in a list of numbers passed, respectively. In this exercise, you’ll reimplement the behavior of these functions. Write a `getSmallest()` function that has a numbers parameter. The numbers parameter will be a list of integer and floating-point number values. The function returns the smallest value in the list. Your solution is correct if the following assert statements’ conditions are all True:\n",
    "\n",
    "```python\n",
    "assert getSmallest([1, 2, 3]) == 1\n",
    "assert getSmallest([3, 2, 1]) == 1\n",
    "assert getSmallest([28, 25, 42, 2, 28]) == 2\n",
    "assert getSmallest([1]) == 1\n",
    "assert getSmallest([]) == None\n",
    "```"
   ]
  },
  {
   "cell_type": "markdown",
   "metadata": {},
   "source": [
    "### With `min()`"
   ]
  },
  {
   "cell_type": "code",
   "execution_count": 4,
   "metadata": {},
   "outputs": [],
   "source": [
    "var = [1, 2, 3]\n",
    "\n",
    "def getSmallest(list):\n",
    "    if list:\n",
    "        return min(list)\n",
    "    else:\n",
    "        return None \n",
    "\n",
    "assert getSmallest([1, 2, 3]) == 1\n",
    "assert getSmallest([3, 2, 1]) == 1\n",
    "assert getSmallest([28, 25, 42, 2, 28]) == 2\n",
    "assert getSmallest([1]) == 1\n",
    "assert getSmallest([]) == None"
   ]
  },
  {
   "cell_type": "markdown",
   "metadata": {},
   "source": [
    "### Without `min()`"
   ]
  },
  {
   "cell_type": "code",
   "execution_count": 81,
   "metadata": {},
   "outputs": [],
   "source": [
    "def getSmallest(nums):\n",
    "    if len(nums) ==0:\n",
    "        return None\n",
    "\n",
    "    smallest = nums[0]\n",
    "    for num in nums:\n",
    "        if num < smallest:\n",
    "            smallest = num\n",
    "    \n",
    "    return smallest\n",
    "assert getSmallest([1, 2, 3]) == 1\n",
    "assert getSmallest([3, 2, 1]) == 1\n",
    "assert getSmallest([28, 25, 42, 2, 28]) == 2\n",
    "assert getSmallest([1]) == 1\n",
    "assert getSmallest([]) == None"
   ]
  },
  {
   "cell_type": "markdown",
   "metadata": {},
   "source": [
    "# Question #2\n",
    "You are given a list nums, write a findIndex() function to return the index of two items whose sum equals the target. Each input has one solution, and you cannot use the same item twice.\n",
    "\n",
    "```python\n",
    "# input\n",
    "nums = [2, 7, 11, 15] \n",
    "target = 9\n",
    "findIndex(nums, target)\n",
    "\n",
    "# output\n",
    "(0, 1)\n",
    "```"
   ]
  },
  {
   "cell_type": "code",
   "execution_count": 87,
   "metadata": {},
   "outputs": [],
   "source": [
    "nums = [2, 7, 11, 15]\n",
    "target = 9\n",
    "\n",
    "def findIndex(nums, target):\n",
    "    output = []\n",
    "    for i, num in enumerate(nums):\n",
    "        if target - num in nums:\n",
    "            output.append(i)\n",
    "    return tuple(output)\n",
    "assert findIndex([2, 7, 11, 15], 9) == (0, 1)"
   ]
  },
  {
   "cell_type": "markdown",
   "metadata": {},
   "source": [
    "# Question #3\n",
    "You are given a tuple nums, write a sortTuple() function to sort value by second item.\n",
    "```python\n",
    "# input\n",
    "nums = (('a', 1), ('b', 3), ('c', 5), ('d', 2))\n",
    "sortTuple(nums)\n",
    "\n",
    "# output\n",
    "(('a', 1), ('d', 2), ('b', 3), ('c', 5))\n",
    "```"
   ]
  },
  {
   "cell_type": "markdown",
   "metadata": {},
   "source": [
    "### With `sorted()`"
   ]
  },
  {
   "cell_type": "code",
   "execution_count": 83,
   "metadata": {},
   "outputs": [
    {
     "data": {
      "text/plain": [
       "[('a', 1), ('d', 2), ('b', 3), ('c', 5)]"
      ]
     },
     "execution_count": 83,
     "metadata": {},
     "output_type": "execute_result"
    }
   ],
   "source": [
    "nums = (('a', 1), ('b', 3), ('c', 5), ('d', 2))\n",
    "def sortTuple(input):\n",
    "    return sorted(input, key=lambda x: x[1])\n",
    "\n",
    "sortTuple(nums)"
   ]
  },
  {
   "cell_type": "markdown",
   "metadata": {},
   "source": [
    "### Without `sorted()`"
   ]
  },
  {
   "cell_type": "code",
   "execution_count": 84,
   "metadata": {},
   "outputs": [
    {
     "data": {
      "text/plain": [
       "(('a', 1), ('d', 2), ('b', 3), ('c', 5))"
      ]
     },
     "execution_count": 84,
     "metadata": {},
     "output_type": "execute_result"
    }
   ],
   "source": [
    "nums = (('a', 1), ('b', 3), ('c', 5), ('d', 2))\n",
    "def sortTuple(nums):\n",
    "    nums = list(nums)\n",
    "    for i in range(len(nums)):\n",
    "        for j in range(len(nums)-1):\n",
    "            if nums[i][-1] < nums[j][-1]:\n",
    "                nums[i], nums[j] = nums[j], nums[i]\n",
    "    return tuple(nums)\n",
    "\n",
    "sortTuple(nums)"
   ]
  },
  {
   "cell_type": "code",
   "execution_count": 85,
   "metadata": {},
   "outputs": [],
   "source": [
    "assert sortTuple((('a', 1), ('b', 3), ('c', 5), ('d', 2))) == (('a', 1), ('d', 2), ('b', 3), ('c', 5))"
   ]
  },
  {
   "cell_type": "markdown",
   "metadata": {},
   "source": [
    "# Question #4\n",
    "You are given two lists l1 and l2 that represent two positive integers each. Each digit of the numbers is stored in reverse order, and each item represents one digit. Write a addList() function to add the two numbers and return the sum as an inverted list.\n",
    "\n",
    "```python\n",
    "# input\n",
    "l1 = [2, 4, 3]\n",
    "l2 = [5, 6, 4]\n",
    "addList(l1, l2)\n",
    "\n",
    "# output\n",
    "(7, 0, 8)\n",
    "```"
   ]
  },
  {
   "cell_type": "markdown",
   "metadata": {},
   "source": [
    "### Method 1"
   ]
  },
  {
   "cell_type": "code",
   "execution_count": 97,
   "metadata": {},
   "outputs": [
    {
     "data": {
      "text/plain": [
       "('7', '0', '8')"
      ]
     },
     "execution_count": 97,
     "metadata": {},
     "output_type": "execute_result"
    }
   ],
   "source": [
    "def addList(l1, l2):\n",
    "    output1 = int(\"\".join([str(item) for item in l1[::-1]]))\n",
    "    output2 = int(\"\".join([str(item) for item in l2[::-1]]))\n",
    "    output3 =  str(output1 + output2)\n",
    "    return tuple(output3[::-1])\n",
    "l1 = [2, 4, 3]\n",
    "l2 = [5, 6, 4]\n",
    "addList(l1, l2)"
   ]
  },
  {
   "cell_type": "markdown",
   "metadata": {},
   "source": [
    "### Method 2"
   ]
  },
  {
   "cell_type": "code",
   "execution_count": 88,
   "metadata": {},
   "outputs": [
    {
     "data": {
      "text/plain": [
       "(7, 0, 8)"
      ]
     },
     "execution_count": 88,
     "metadata": {},
     "output_type": "execute_result"
    }
   ],
   "source": [
    "def addList(l1, l2):\n",
    "    out1 = \"\"\n",
    "    for i in l1[::-1]:\n",
    "       out1 += str(i)\n",
    "\n",
    "    out2 = \"\"\n",
    "    for j in l2[::-1]:\n",
    "        out2 += str(j)\n",
    "    SUM = str(int(out1) + int(out2))\n",
    "    OUT = [int(i) for i in SUM]\n",
    "\n",
    "    return tuple(OUT[::-1])\n",
    "\n",
    "l1 = [2, 4, 3]\n",
    "l2 = [5, 6, 4]\n",
    "\n",
    "addList(l1, l2)"
   ]
  },
  {
   "cell_type": "markdown",
   "metadata": {},
   "source": [
    "# Question #5\n",
    "\n",
    "One of the most efficient sorting algorithms is the merge sort algorithm. Merge sort has two phases: the dividing phase and the merge phase. Write a `mergeTwoLists()` function with two parameters `list1` and `list2`. The lists of numbers passed for these parameters are already in sorted order from smallest to largest number. The function returns a single sorted list of all numbers from these two lists.\n",
    "\n",
    "You could write this function in one line of code by using Python’s `sorted()` function: return sorted(list1 + list2). **But this would defeat the purpose of the exercise, so don’t use the sorted() function or sort() method as part of your solution.** Your solution is correct if the following assert statements’ conditions are all True:\n",
    "\n",
    "```python\n",
    "assert mergeTwoLists([1, 3, 6], [5, 7, 8, 9]) == [1, 3, 5, 6, 7, 8, 9]\n",
    "assert mergeTwoLists([4, 5], [1, 2, 3]) == [1, 2, 3, 4, 5]\n",
    "assert mergeTwoLists([2, 2, 2], [2, 2, 2]) == [2, 2, 2, 2, 2, 2]\n",
    "assert mergeTwoLists([], [1, 2, 3]) == [1, 2, 3]\n",
    "```"
   ]
  },
  {
   "cell_type": "code",
   "execution_count": 96,
   "metadata": {},
   "outputs": [],
   "source": [
    "def mergeTwoLists(l1, l2):\n",
    "    i, j = 0, 0\n",
    "    \n",
    "    out = []\n",
    "    while i < len(l1) and j < len(l2):\n",
    "        if l1[i] < l2[j]:\n",
    "            out.append(l1[i])\n",
    "            i += 1\n",
    "        else:\n",
    "            out.append(l2[j])\n",
    "            j += 1\n",
    "\n",
    "    if j < len(l2):\n",
    "        for index in range(j, len(l2)):\n",
    "            out.append(l2[index])\n",
    "\n",
    "    if i < len(l1):\n",
    "        for index in range(i, len(l1)):\n",
    "            out.append(l1[index])\n",
    "\n",
    "    return out\n",
    "\n",
    "assert mergeTwoLists([1, 3, 6], [5, 7, 8, 9]) == [1, 3, 5, 6, 7, 8, 9]\n",
    "assert mergeTwoLists([4, 5], [1, 2, 3]) == [1, 2, 3, 4, 5]\n",
    "assert mergeTwoLists([2, 2, 2], [2, 2, 2]) == [2, 2, 2, 2, 2, 2]\n",
    "assert mergeTwoLists([], [1, 2, 3]) == [1, 2, 3]"
   ]
  },
  {
   "cell_type": "markdown",
   "metadata": {},
   "source": [
    "# Question #6\n",
    "\n",
    "You are given a non-overlapping list `l1` where `l1[i] = [start_i, end_i]` represents the start and end of the i-th interval and the intervals are sorted in ascending order based on i. You are also given an list `l2 = [start, end]` that represents the start and end of another interval. Write a `insertList()` function to insert `l2` into `l1` so that `l1` are still sorted in ascending order and do not overlap (merge overlapping intervals if necessary).\n",
    "\n",
    "```python\n",
    "# input\n",
    "l1 = [[1, 2], [3, 5], [6, 7], [8, 10], [12, 16]] \n",
    "l2 = [4, 8]\n",
    "insertList(l1, l2)\n",
    "\n",
    "# output\n",
    "[[1, 2], [3, 10], [12, 16]]\n",
    "```"
   ]
  },
  {
   "cell_type": "code",
   "execution_count": 100,
   "metadata": {},
   "outputs": [],
   "source": [
    "def insertList(l1, l2):\n",
    "    for num in l1:\n",
    "        if num[1] < l2[0]:\n",
    "            a = num\n",
    "        elif num[0] > l2[1]:\n",
    "            c = num\n",
    "        else:\n",
    "            l2[0] = min(num[0], l2[0])\n",
    "            l2[1] = max(num[1], l2[1])\n",
    "\n",
    "    return [a] + [l2] + [c]\n",
    "\n",
    "\n",
    "assert insertList([[1, 2], [3, 5], [6, 7], [8, 10], [12, 16]] , [4, 8]) == [[1, 2], [3, 10], [12, 16]]"
   ]
  },
  {
   "cell_type": "markdown",
   "metadata": {},
   "source": [
    "# Question #7"
   ]
  },
  {
   "cell_type": "markdown",
   "metadata": {},
   "source": [
    "Your solution should import Python’s `random` module to help randomly generate these passwords. Your solution is correct if the following assert statements’ conditions are all True:\n",
    "\n",
    "```python\n",
    "LOWER_LETTERS = 'abcdefghijklmnopqrstuvwxyz'\n",
    "UPPER_LETTERS = 'ABCDEFGHIJKLMNOPQRSTUVWXYZ'\n",
    "NUMBERS = '1234567890'\n",
    "SPECIAL = '~!@#$%^&*()_+'\n",
    "\n",
    "password = generatePassword(8)\n",
    "hasLowerCase = False\n",
    "hasUpperCase = False\n",
    "hasNumber = False\n",
    "hasSpecial = False\n",
    "\n",
    "for char in password:\n",
    "    if char in LOWER_LETTERS:\n",
    "        hasLowerCase = True\n",
    "    if char in UPPER_LETTERS:\n",
    "\t\t\t\thasUpperCase = True\n",
    "\t\tif char in NUMBERS:\n",
    "        hasNumber = True\n",
    "    if char in SPECIAL:\n",
    "        hasSpecial = True\n",
    "\n",
    "assert hasLowerCase and hasUpperCase and hasNumber and hasSpecial\n",
    "```"
   ]
  },
  {
   "cell_type": "markdown",
   "metadata": {},
   "source": [
    "# Question #8\n",
    "\n",
    "Write a `sumList()` function that has a `num` parameter. The num parameter contains a list of integer numbers. The function must return all the triplets `[nums[i], nums[j], nums[k]]` such that `i != j`, `i != k`, and `j != k`, and `nums[i] + nums[j] + nums[k] == 0`. **Notice that the solution set must not contain duplicate triplets.** Your solution is correct if the following input & output conditions are similar:\n",
    "\n",
    "```python\n",
    "# input\n",
    "num = [-1, 0, 1, -2, -1, 2, -4]\n",
    "sumList(num)\n",
    "\n",
    "# output \n",
    "[-2, 0, 2], [-1, -1, 2], [-1, 0, 1]\n",
    "```"
   ]
  },
  {
   "cell_type": "markdown",
   "metadata": {},
   "source": [
    "___"
   ]
  }
 ],
 "metadata": {
  "kernelspec": {
   "display_name": "Python 3",
   "language": "python",
   "name": "python3"
  },
  "language_info": {
   "codemirror_mode": {
    "name": "ipython",
    "version": 3
   },
   "file_extension": ".py",
   "mimetype": "text/x-python",
   "name": "python",
   "nbconvert_exporter": "python",
   "pygments_lexer": "ipython3",
   "version": "3.11.7"
  }
 },
 "nbformat": 4,
 "nbformat_minor": 2
}
