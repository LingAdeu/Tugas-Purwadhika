{
 "cells": [
  {
   "cell_type": "markdown",
   "metadata": {},
   "source": [
    "## Question #1\n",
    "\n",
    "Find a word in the string `spam`, see how many times it appears.\n",
    "\n",
    "```python\n",
    "# input: \n",
    "spam = 'ababaababbbbcccbabcc'\n",
    "word = 'bab'\n",
    "\n",
    "# output:\n",
    "'Appeard 3 times'\n",
    "```"
   ]
  },
  {
   "cell_type": "markdown",
   "metadata": {},
   "source": [
    "\n",
    "## Question #2\n",
    "\n",
    "Count the number of `o` and `x` in the string `spam` (case sensitive), if they are equal, print `True`, otherwise print `False`.\n",
    "\n",
    "```python\n",
    "# input:\n",
    "spam = 'oOxxX'\n",
    "\n",
    "# output:\n",
    "False\n",
    "```\n"
   ]
  },
  {
   "cell_type": "markdown",
   "metadata": {},
   "source": [
    "## Question #3\n",
    "\n",
    "A narcissistic number are numbers that can be represented by some kind of mathematical manipulation of their digits. A whole number, or integer, that is the sum of the *n*th powers of its digits (e.g., 153 = 1**3 + 5**3 + 3**3).\n",
    "\n",
    "```python\n",
    "# input:\n",
    "spam = 153\n",
    "\n",
    "# output:\n",
    "'153 is narcissistic number'\n",
    "```\n"
   ]
  },
  {
   "cell_type": "markdown",
   "metadata": {},
   "source": [
    "## Question #4\n",
    "\n",
    "This exercise continues our use of the modulo operator to determine if numbers are divisible by 3, 5, or both 3 and 5. Divisible by n, means that it can be divided by a number n with no remainder. For example, 10 is divisible by 5, but 11 is not divisible by 5.\n",
    "\n",
    "Write a simple program with a single integer variable named `upTo`. For the numbers 1 up to and including `upTo`, the function prints one of four things:\n",
    "\n",
    "- Prints `Fizz` if the number is only divisible by 3.\n",
    "- Prints `FizzBuzz` if the number is divisible by 3 and 5.\n",
    "- Prints `Buzz` if the number is only divisible by 5.\n",
    "- Prints the number if the number is neither divisible by 3 nor 5.\n",
    "\n",
    "Instead of printing each string or number on a separate line, print them without newlines. For\n",
    "example, your solution is correct if calling `upTo = 35` produces the following output:\n",
    "\n",
    "```python\n",
    "# input\n",
    "Enter a number (greater than 0) or QUIT: 35\n",
    "\n",
    "# output\n",
    "1 2 Fizz 4 Buzz Fizz 7 8 Fizz Buzz 11 Fizz 13 14 FizzBuzz 16 17 Fizz 19 Buzz Fizz 22\n",
    "23 Fizz Buzz 26 Fizz 28 29 FizzBuzz 31 32 Fizz 34 Buzz\n",
    "```"
   ]
  },
  {
   "cell_type": "markdown",
   "metadata": {},
   "source": [
    "## Question #5\n",
    "\n",
    "Find-and-replace is a standard feature in text editors, IDEs, and word processor software. Even the Python language comes with a `replace()` string method since programs often use it. In this exercise, you’ll reimplement this common string operation.\n",
    "\n",
    "Write a simple program that has three main variable: \n",
    "\n",
    "- `text` is the string with text to be replaced\n",
    "- `oldText` is the text to be replaced\n",
    "- `newText` is the replacement text.\n",
    "\n",
    "Keep in mind that this function must be case-sensitive: if you are replacing 'fox' with 'dog', then the 'Fox' in ‘The Fox and fox' won’t be replaced. Your solution is correct if produce following output:\n",
    "\n",
    "```python\n",
    "# input\n",
    "text = 'The Fox and fox.'\n",
    "oldText = 'fox' \n",
    "newText = 'dog'\n",
    "\n",
    "# output\n",
    "'The Fox and dog.'\n",
    "```"
   ]
  },
  {
   "cell_type": "markdown",
   "metadata": {},
   "source": [
    "## Question #6\n",
    "\n",
    "The Collatz sequence, also called the 3n + 1 problem, is the simplest impossible math problem (But don’t worry, the program itself is easy enough for beginners). From a starting number, *n*, follow three rules to get the next number in the sequence:\n",
    "\n",
    "- If *n* is `even`, the next number *n* is *n* / 2.\n",
    "- If *n* is `odd`, the next number *n* is *n* * 3 + 1.\n",
    "- If *n* is `1`, stop. Otherwise, repeat.\n",
    "\n",
    "It is generally thought, but so far not mathematically proven, that every starting number eventually terminates at 1. Write a simple program that prompts the user to select a starting number or quit. When user run the program, and the output will look like this:\n",
    "\n",
    "```python\n",
    "# input\n",
    "Enter a starting number (greater than 0) or QUIT: 26\n",
    "\n",
    "# output\n",
    "26, 13, 40, 20, 10, 5, 16, 8, 4, 2, 1\n",
    "```\n"
   ]
  },
  {
   "cell_type": "markdown",
   "metadata": {},
   "source": [
    "## Question #7\n",
    "\n",
    "The Fibonacci sequence is a famous mathematical pattern credited to Italian mathematician Fibonacci in the 13th century (though others had discovered it even earlier). The sequence begins with 0 and 1, and the next number is always the sum of the previous two numbers. The sequence continues forever.\n",
    "\n",
    "```python\n",
    "0, 1, 1, 2, 3, 5, 8, 13, 21, 34, 55, 89, 144, 233, 377, 610, 987 . . .\n",
    "```\n",
    "\n",
    "Because Fibonacci numbers quickly become very large, check if the user has entered a number that’s 100 or larger and displays a warning that it may take some time for the output to finish displaying on the screen. The warning in our program reminds the user they can always terminate the program by pressing CTRL-C. When you run the program, the output will look like this:\n",
    "\n",
    "```python\n",
    "# input\n",
    "Enter the Nth Fibonacci number you wish to calculate or QUIT to quit: 10\n",
    "\n",
    "# output\n",
    "0, 1, 1, 2, 3, 5, 8, 13, 21, 34\n",
    "```"
   ]
  },
  {
   "cell_type": "markdown",
   "metadata": {},
   "source": [
    "## Question #8\n",
    "\n",
    "Write a simple program that can hack messages encrypted with the Caesar cipher, even if you don’t know the key. There are only 26 possible keys for the Caesar cipher, so a computer can easily try all possible decryptions and display the results to the user. In cryptography, we call this technique a *brute-force attack*. When you run the program, the output will look like this:\n",
    "\n",
    "```python\n",
    "# input\n",
    "Enter the message to hack: QIIX QI FC XLI VSWI FYWLIW XSRMKLX.\n",
    "\n",
    "# output\n",
    "Key #0: QIIX QI FC XLI VSWI FYWLIW XSRMKLX.\n",
    "Key #1: PHHW PH EB WKH URVH EXVKHV WRQLJKW. \n",
    "Key #2: OGGV OG DA VJG TQUG DWUJGU VQPKIJV. \n",
    "Key #3: NFFU NF CZ UIF SPTF CVTIFT UPOJHIU. \n",
    "Key #4: MEET ME BY THE ROSE BUSHES TONIGHT. \n",
    "Key #5: LDDS LD AX SGD QNRD ATRGDR SNMHFGS. \n",
    "Key #6: KCCR KC ZW RFC PMQC ZSQFCQ RMLGEFR. \n",
    "```"
   ]
  },
  {
   "cell_type": "code",
   "execution_count": null,
   "metadata": {},
   "outputs": [],
   "source": []
  }
 ],
 "metadata": {
  "language_info": {
   "name": "python"
  }
 },
 "nbformat": 4,
 "nbformat_minor": 2
}
