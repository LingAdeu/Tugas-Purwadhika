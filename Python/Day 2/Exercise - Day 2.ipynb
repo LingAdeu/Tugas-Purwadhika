{
 "cells": [
  {
   "cell_type": "markdown",
   "metadata": {},
   "source": [
    "<p style=\"text-align:center\"><i><span style=\"color:orange\">...Work in Progress...</span></i></p>\n",
    "\n",
    "<b>Progress</b>\n",
    "\n",
    "- [x] Question 1: Freq of a string\n",
    "- [x] Question 2: Check two counts\n",
    "- [x] Question 3: Narchistic number\n",
    "- [x] Question 4: Mathematical operations\n",
    "- [x] Question 5: String replacement\n",
    "- [x] Question 6: Collatz sequence\n",
    "- [x] Question 7: Fibonacci sequence\n",
    "- [ ] <span style=\"color:red\">Question 8: Caesar cipher</span>\n"
   ]
  },
  {
   "cell_type": "markdown",
   "metadata": {},
   "source": [
    "## Question #1\n",
    "\n",
    "Find a word in the string `spam`, see how many times it appears.\n",
    "\n",
    "```python\n",
    "# input: \n",
    "spam = 'ababaababbbbcccbabcc'\n",
    "word = 'bab'\n",
    "\n",
    "# output:\n",
    "'Appeard 3 times'\n",
    "```"
   ]
  },
  {
   "cell_type": "markdown",
   "metadata": {},
   "source": [
    "Before moving further, I will demonstrate what the method `.find()` that will be used in my code used for. As seen on the code block below, the method returns to the first occurrence of specific item where in this case is \"bab\".\n",
    "\n",
    "Because it only finds the first occurrence, a loop is needed to search all occurrences so `while` is needed. "
   ]
  },
  {
   "cell_type": "code",
   "execution_count": 27,
   "metadata": {},
   "outputs": [
    {
     "data": {
      "text/plain": [
       "1"
      ]
     },
     "execution_count": 27,
     "metadata": {},
     "output_type": "execute_result"
    }
   ],
   "source": [
    "spam = \"ababaababbbbcccbabcc\"\n",
    "word = \"bab\"\n",
    "spam.find(word)"
   ]
  },
  {
   "cell_type": "markdown",
   "metadata": {},
   "source": [
    "If the defined item is not found, the method will return -1 (see [W3 Schools](https://www.w3schools.com/python/ref_string_find.asp) for reference) so this result can be used as a condition to break the loop."
   ]
  },
  {
   "cell_type": "code",
   "execution_count": 79,
   "metadata": {},
   "outputs": [
    {
     "name": "stdout",
     "output_type": "stream",
     "text": [
      "The word 'bab' appeared 3 times.\n"
     ]
    }
   ],
   "source": [
    "spam = \"ababaababbbbcccbabcc\"\n",
    "word = \"bab\"\n",
    "\n",
    "# to initialize counter var\n",
    "count = 0\n",
    "# to initialize param start index\n",
    "start = -1\n",
    "\n",
    "while True:\n",
    "    # find word in spam from 0 (-1+1)\n",
    "    start = spam.find(word, start+1)\n",
    "    # check if index is -1 (not found)\n",
    "    if start == -1:\n",
    "        # if so, break\n",
    "        break\n",
    "    # while indexing, count + 1\n",
    "    count += 1\n",
    "print(f\"The word 'bab' appeared {count} times.\")"
   ]
  },
  {
   "cell_type": "markdown",
   "metadata": {},
   "source": [
    "<b>Procedures</b>:\n",
    "1. To search the frequency of \"bab\", we can use the method `.find()`. By default, if we type `spam.find(word)`, the program will return 1 (the index of the first occurrence of the word \"bab\"). But since we know that in the string there are more than once, we can exploit the kwyword `while` to continue searching another occurrence.\n",
    "2. Inside `while`, the method `.find()` attached to `spam` to loop the searching process of \"bab\". `start+1` is put as an argument in find to make `start == 0`. \n",
    "3. The if-statement is added to check whether the `start` index id `-1`. This condition is to stop the loop if no more occurrence found.\n",
    "4. The value of var `count` which was initially 0 keeps increasing until the loop ends, i.e., `-1`."
   ]
  },
  {
   "cell_type": "markdown",
   "metadata": {},
   "source": [
    "\n",
    "## Question #2\n",
    "\n",
    "Count the number of `o` and `x` in the string `spam` (case sensitive), if they are equal, print `True`, otherwise print `False`.\n",
    "\n",
    "```python\n",
    "# input:\n",
    "spam = 'oOxxX'\n",
    "\n",
    "# output:\n",
    "False\n",
    "```\n"
   ]
  },
  {
   "cell_type": "code",
   "execution_count": 77,
   "metadata": {},
   "outputs": [
    {
     "name": "stdout",
     "output_type": "stream",
     "text": [
      "False\n"
     ]
    }
   ],
   "source": [
    "spam = \"oOxxX\"\n",
    "count_o = 0\n",
    "count_x = 0\n",
    "comparisonValue = False\n",
    "\n",
    "# iterate over item in the range of spam length\n",
    "for i in range(len(spam)):\n",
    "    # if spam index is \"o\"\n",
    "    if spam[i] == \"o\":\n",
    "        # add to counter o\n",
    "        count_o += 1\n",
    "    # else if spam index is \"x\"\n",
    "    elif spam[i] == \"x\":\n",
    "        # add to counter x\n",
    "        count_x += 1\n",
    "\n",
    "# if count o is equals to count x\n",
    "if count_o == count_x:\n",
    "    # check comparisonValue\n",
    "    comparisonValue = True\n",
    "\n",
    "print(comparisonValue)"
   ]
  },
  {
   "cell_type": "markdown",
   "metadata": {},
   "source": [
    "## Question #3\n",
    "\n",
    "A narcissistic number are numbers that can be represented by some kind of mathematical manipulation of their digits. A whole number, or integer, that is the sum of the *n*th powers of its digits (e.g., 153 = 1\\*\\*3 + 5\\*\\*3 + 3\\*\\*3).\n",
    "\n",
    "```python\n",
    "# input:\n",
    "spam = 153\n",
    "\n",
    "# output:\n",
    "'153 is narcissistic number'\n",
    "```\n"
   ]
  },
  {
   "cell_type": "code",
   "execution_count": 81,
   "metadata": {},
   "outputs": [
    {
     "name": "stdout",
     "output_type": "stream",
     "text": [
      "153 is narcistic number\n"
     ]
    }
   ],
   "source": [
    "num = input(\"Enter your number: \")\n",
    "power = len(num)\n",
    "\n",
    "# intitialize the counter\n",
    "result = 0\n",
    "\n",
    "# iterate item in num\n",
    "for i in num:\n",
    "    # add result of integer i raised to power (num length)\n",
    "    # add and store to result\n",
    "    result += int(i)**power \n",
    "\n",
    "# check if int num is equal to result\n",
    "if int(num) == result:\n",
    "    print(f\"{num} is narcistic number\")\n",
    "else:\n",
    "    print(f\"{num} is not a narcistic number.\")"
   ]
  },
  {
   "cell_type": "markdown",
   "metadata": {},
   "source": [
    "## Question #4\n",
    "\n",
    "This exercise continues our use of the modulo operator to determine if numbers are divisible by 3, 5, or both 3 and 5. Divisible by n, means that it can be divided by a number n with no remainder. For example, 10 is divisible by 5, but 11 is not divisible by 5.\n",
    "\n",
    "Write a simple program with a single integer variable named `upTo`. For the numbers 1 up to and including `upTo`, the function prints one of four things:\n",
    "\n",
    "- Prints `Fizz` if the number is only divisible by 3.\n",
    "- Prints `FizzBuzz` if the number is divisible by 3 and 5.\n",
    "- Prints `Buzz` if the number is only divisible by 5.\n",
    "- Prints the number if the number is neither divisible by 3 nor 5.\n",
    "\n",
    "Instead of printing each string or number on a separate line, print them without newlines. For\n",
    "example, your solution is correct if calling `upTo = 35` produces the following output:\n",
    "\n",
    "```python\n",
    "# input\n",
    "Enter a number (greater than 0) or QUIT: 35\n",
    "\n",
    "# output\n",
    "1 2 Fizz 4 Buzz Fizz 7 8 Fizz Buzz 11 Fizz 13 14 FizzBuzz 16 17 Fizz 19 Buzz Fizz 22\n",
    "23 Fizz Buzz 26 Fizz 28 29 FizzBuzz 31 32 Fizz 34 Buzz\n",
    "```"
   ]
  },
  {
   "cell_type": "code",
   "execution_count": 32,
   "metadata": {},
   "outputs": [
    {
     "name": "stdout",
     "output_type": "stream",
     "text": [
      "1 2 Fizz 4 Buzz Fizz 7 8 Fizz Buzz 11 Fizz 13 14 FizzBuzz 16 17 Fizz 19 Buzz Fizz 22 23 Fizz Buzz 26 Fizz 28 29 FizzBuzz 31 32 Fizz 34 Buzz "
     ]
    }
   ],
   "source": [
    "user_num = int(input(\"Enter your number (greater than 0): \"))\n",
    "\n",
    "for i in range(1, user_num + 1):\n",
    "    if i % 3 == 0 and i % 5 == 0:\n",
    "        print(\"FizzBuzz\", end=\" \")\n",
    "    elif i % 3 == 0:\n",
    "        print(\"Fizz\", end=\" \")\n",
    "    elif i % 5 == 0:\n",
    "        print(\"Buzz\", end= \" \")\n",
    "    else:\n",
    "        print(i, end=\" \")"
   ]
  },
  {
   "cell_type": "markdown",
   "metadata": {},
   "source": [
    "## Question #5\n",
    "\n",
    "Find-and-replace is a standard feature in text editors, IDEs, and word processor software. Even the Python language comes with a `replace()` string method since programs often use it. In this exercise, you’ll reimplement this common string operation.\n",
    "\n",
    "Write a simple program that has three main variable: \n",
    "\n",
    "- `text` is the string with text to be replaced\n",
    "- `oldText` is the text to be replaced\n",
    "- `newText` is the replacement text.\n",
    "\n",
    "Keep in mind that this function must be case-sensitive: if you are replacing 'fox' with 'dog', then the 'Fox' in ‘The Fox and fox' won’t be replaced. Your solution is correct if produce following output:\n",
    "\n",
    "```python\n",
    "# input\n",
    "text = 'The Fox and fox.'\n",
    "oldText = 'fox' \n",
    "newText = 'dog'\n",
    "\n",
    "# output\n",
    "'The Fox and dog.'\n",
    "```"
   ]
  },
  {
   "cell_type": "markdown",
   "metadata": {},
   "source": [
    "## Method 1"
   ]
  },
  {
   "cell_type": "code",
   "execution_count": 76,
   "metadata": {},
   "outputs": [
    {
     "name": "stdout",
     "output_type": "stream",
     "text": [
      "The Fox and dog.\n"
     ]
    }
   ],
   "source": [
    "text = 'The Fox and fox.'\n",
    "oldText = 'fox' \n",
    "newText = 'dog'\n",
    "\n",
    "while True:\n",
    "    # replace fox with dog\n",
    "    text_1 = text.replace(oldText, newText)\n",
    "    # find index of occurrence of fox (last means -1)\n",
    "    text_2 = text_1.find(oldText)\n",
    "    if text_2 == -1:\n",
    "        break\n",
    "    \n",
    "print(text_1)"
   ]
  },
  {
   "cell_type": "markdown",
   "metadata": {},
   "source": [
    "## Method 2"
   ]
  },
  {
   "cell_type": "code",
   "execution_count": 13,
   "metadata": {},
   "outputs": [
    {
     "name": "stdout",
     "output_type": "stream",
     "text": [
      "The Fox and dog.\n"
     ]
    }
   ],
   "source": [
    "text = 'The Fox and fox.'\n",
    "oldText = 'fox' \n",
    "newText = 'dog'\n",
    "\n",
    "# loop till finding oldText in text\n",
    "while oldText in text:\n",
    "    # replace oldText with newText\n",
    "    text = text.replace(oldText, newText)\n",
    "\n",
    "print(text)"
   ]
  },
  {
   "cell_type": "markdown",
   "metadata": {},
   "source": [
    "## Question #6\n",
    "\n",
    "The Collatz sequence, also called the 3n + 1 problem, is the simplest impossible math problem (But don’t worry, the program itself is easy enough for beginners). From a starting number, *n*, follow three rules to get the next number in the sequence:\n",
    "\n",
    "- If *n* is `even`, the next number *n* is *n* / 2.\n",
    "- If *n* is `odd`, the next number *n* is *n* * 3 + 1.\n",
    "- If *n* is `1`, stop. Otherwise, repeat.\n",
    "\n",
    "It is generally thought, but so far not mathematically proven, that every starting number eventually terminates at 1. Write a simple program that prompts the user to select a starting number or quit. When user run the program, and the output will look like this:\n",
    "\n",
    "```python\n",
    "# input\n",
    "Enter a starting number (greater than 0) or QUIT: 26\n",
    "\n",
    "# output\n",
    "26, 13, 40, 20, 10, 5, 16, 8, 4, 2, 1\n",
    "```\n"
   ]
  },
  {
   "cell_type": "code",
   "execution_count": 90,
   "metadata": {},
   "outputs": [
    {
     "name": "stdout",
     "output_type": "stream",
     "text": [
      "[34, 17, 52, 26, 13, 40, 20, 10, 5, 16, 8, 4, 2, 1]\n"
     ]
    }
   ],
   "source": [
    "num = int(input(\"Enter a starting number (greater than 0): \"))\n",
    "# initialize list in seq\n",
    "seq = [num]\n",
    "\n",
    "while num != 1:\n",
    "    if num % 2 == 0:\n",
    "        num = num // 2\n",
    "    else:\n",
    "        num = num * 3 + 1\n",
    "    seq.append(num)\n",
    "\n",
    "print(seq)"
   ]
  },
  {
   "cell_type": "markdown",
   "metadata": {},
   "source": [
    "## Question #7\n",
    "\n",
    "The Fibonacci sequence is a famous mathematical pattern credited to Italian mathematician Fibonacci in the 13th century (though others had discovered it even earlier). The sequence begins with 0 and 1, and the next number is always the sum of the previous two numbers. The sequence continues forever.\n",
    "\n",
    "```python\n",
    "0, 1, 1, 2, 3, 5, 8, 13, 21, 34, 55, 89, 144, 233, 377, 610, 987 . . .\n",
    "```\n",
    "\n",
    "Because Fibonacci numbers quickly become very large, <span style=\"color:purple\">check if the user has entered a number that’s 100 or larger and displays a warning that it may take some time for the output to finish displaying on the screen</span>. The warning in our program reminds the user they can always terminate the program by pressing CTRL-C. When you run the program, the output will look like this:\n",
    "\n",
    "```python\n",
    "# input\n",
    "Enter the Nth Fibonacci number you wish to calculate or QUIT to quit: 10\n",
    "\n",
    "# output\n",
    "0, 1, 1, 2, 3, 5, 8, 13, 21, 34\n",
    "```"
   ]
  },
  {
   "cell_type": "markdown",
   "metadata": {},
   "source": [
    "Answer:\n",
    "\n",
    "Fibbonacci number:\n",
    "- $F_0 = 0$ (first integer)\n",
    "- $F_1 = 1$ (secoond integer) \n",
    "- $F_n = F_{n-1} + F_{n-2}$\n",
    "    - Say we want to get $F_2$ and $F_3$, then \n",
    "\n",
    "$$\n",
    "\\begin{align}\n",
    "F_2 &= F_{2-1} + F_{2-2} \\\\\n",
    "&= F_{1} + F_{0} \\\\\n",
    "&= 1 + 0 \\\\\n",
    "&= 1 \\\\\n",
    "\n",
    "F_3 &= F_{3-1} + F_{3-2} \\\\\n",
    "&= F_{2} + F_{1} \\\\\n",
    "&= 1 + 1 \\\\\n",
    "&= 2\n",
    "\\end{align}\n",
    "$$\n",
    "\n",
    "From the equation, we know that basically, the next number is always the addition of the prior two so we can use the iword `while` to loop over the process. As mentioned on the instructions, the user can quit the program when s/he enters 10. For this reason, the `if`-statements are used to show warning when the user inputs >= 10 and terminate the process. "
   ]
  },
  {
   "cell_type": "code",
   "execution_count": 91,
   "metadata": {},
   "outputs": [
    {
     "name": "stdout",
     "output_type": "stream",
     "text": [
      "1 2 3 5 8 13 21 34 \n"
     ]
    }
   ],
   "source": [
    "nth = int(input(\"Enter the Nth Fibonacci number you wish to calculate: \"))\n",
    "first_num = 0                       # first num of fib seq\n",
    "second_num = 1                      # second num of fib seq\n",
    "n_num = second_num                  # next num of fib\n",
    "count = 1                           # couter var\n",
    "\n",
    "# loop until counter var <= Nth fib number\n",
    "while count <= nth:\n",
    "    # if user input 10, display warning\n",
    "    if count >= 10:\n",
    "        user_input = input(\"Warning: I need sometime to calculate. Type 'cancel' to cancel.\")\n",
    "        # if input \"cancel\", break loop\n",
    "        if user_input.lower() == \"cancel\":\n",
    "            break\n",
    "    \n",
    "    # print current fib number\n",
    "    print(n_num, end=\" \")\n",
    "    # add to counter var\n",
    "    count += 1\n",
    "    # update for next number\n",
    "    first_num, second_num = second_num, n_num\n",
    "    # calculate next number in the sequence\n",
    "    n_num = first_num + second_num\n",
    "print()"
   ]
  },
  {
   "cell_type": "markdown",
   "metadata": {},
   "source": [
    "Note: the Fibonacci sequence was initialized by `first_num`, `second_num`, and `n_num` (storing the `second_num` for the next number). The loops stopped until user-defined value (`nth`) or `cancel` when the value is `>=10` "
   ]
  },
  {
   "cell_type": "markdown",
   "metadata": {},
   "source": [
    "## Question #8\n",
    "\n",
    "Write a simple program that can hack messages encrypted with the Caesar cipher, even if you don’t know the i. There are only 26 possible is for the Caesar cipher, so a computer can easily try all possible decryptions and display the results to the user. In cryptography, we call this technique a *brute-force attack*. When you run the program, the output will look like this:\n",
    "\n",
    "```python\n",
    "# input\n",
    "Enter the message to hack: QIIX QI FC XLI VSWI FYWLIW XSRMKLX.\n",
    "\n",
    "# output\n",
    "Key #0: QIIX QI FC XLI VSWI FYWLIW XSRMKLX.\n",
    "Key #1: PHHW PH EB WKH URVH EXVKHV WRQLJKW. \n",
    "Key #2: OGGV OG DA VJG TQUG DWUJGU VQPKIJV. \n",
    "Key #3: NFFU NF CZ UIF SPTF CVTIFT UPOJHIU. \n",
    "Key #4: MEET ME BY THE ROSE BUSHES TONIGHT. \n",
    "Key #5: LDDS LD AX SGD QNRD ATRGDR SNMHFGS. \n",
    "Key #6: KCCR KC ZW RFC PMQC ZSQFCQ RMLGEFR. \n",
    "```"
   ]
  }
 ],
 "metadata": {
  "kernelspec": {
   "display_name": "Python 3",
   "language": "python",
   "name": "python3"
  },
  "language_info": {
   "codemirror_mode": {
    "name": "ipython",
    "version": 3
   },
   "file_extension": ".py",
   "mimetype": "text/x-python",
   "name": "python",
   "nbconvert_exporter": "python",
   "pygments_lexer": "ipython3",
   "version": "3.11.7"
  }
 },
 "nbformat": 4,
 "nbformat_minor": 2
}
