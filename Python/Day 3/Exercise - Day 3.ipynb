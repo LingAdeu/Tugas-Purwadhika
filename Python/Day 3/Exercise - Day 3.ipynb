{
 "cells": [
  {
   "cell_type": "markdown",
   "metadata": {},
   "source": [
    "## Question #1\n",
    "\n",
    "Write a `factorial()` function for calculating the factorial of the input number, and please use the recursion schema. Your solution is correct if the following assert statements’ conditions are all True:\n",
    "\n",
    "```python\n",
    "assert factorial(0) == 1\n",
    "assert factorial(3) == 6\n",
    "assert factorial(10) == 3628800\n",
    "assert factorial(-10) == None\n",
    "```"
   ]
  },
  {
   "cell_type": "markdown",
   "metadata": {},
   "source": [
    "Factorial formula: $n! = n \\times (n -1) \\times ... \\times 1$"
   ]
  },
  {
   "cell_type": "code",
   "execution_count": 16,
   "metadata": {},
   "outputs": [
    {
     "name": "stdout",
     "output_type": "stream",
     "text": [
      "1\n"
     ]
    }
   ],
   "source": [
    "def factorial(value):\n",
    "    \"\"\"Function to get factorial value\n",
    "\n",
    "    Args:\n",
    "        value (int): \"Integer to input\"\n",
    "\n",
    "    Returns:\n",
    "        _type_: _description_\n",
    "    \"\"\"\n",
    "    num = 1\n",
    "    if value >= 1:\n",
    "        for i in range(1, value+1):\n",
    "            num = num * i\n",
    "    return print(num)\n",
    "\n",
    "factorial(0)"
   ]
  },
  {
   "cell_type": "code",
   "execution_count": 20,
   "metadata": {},
   "outputs": [],
   "source": [
    "def factorial(value):\n",
    "    if value == 0:\n",
    "        return 1\n",
    "    elif value < 0:\n",
    "        return None\n",
    "    else:\n",
    "        # 3 * (3 - 1) = 6\n",
    "        # 4 * 3 * 2 * 1 = 24\n",
    "        return value * factorial(value - 1)\n",
    "\n",
    "assert factorial(0) == 1\n",
    "assert factorial(3) == 6\n",
    "assert factorial(10) == 3628800\n",
    "assert factorial(-10) == None\n",
    "    "
   ]
  },
  {
   "cell_type": "markdown",
   "metadata": {},
   "source": [
    "## Question #2\n",
    "\n",
    "Websites often use relative timestamps such as 3 days ago or about 3h ago so the user doesn’t need to compare an absolute timestamp to the current time. In this exercise, you write a function that converts a number of seconds into a string with the number of hours, minutes, and seconds.\n",
    "\n",
    "Write a `timeConvert()` function that has a `totalSeconds` parameter. The argument for this parameter will be the number of seconds to be translated into the number of hours, minutes, and seconds. If the amount for the hours, minutes, or seconds is zero, don’t show it: the function should return `10m` rather than '0h 10m 0s'. \n",
    "\n",
    "Your solution is correct if the following assert statements’ conditions are all True:\n",
    "\n",
    "```python\n",
    "assert timeConvert(0) == '0s'\n",
    "assert timeConvert(30) == '30s'\n",
    "assert timeConvert(60) == '1m'\n",
    "assert timeConvert(90) == '1m 30s'\n",
    "assert timeConvert(3600) == '1h'\n",
    "assert timeConvert(3601) == '1h 1s'\n",
    "assert timeConvert(3661) == '1h 1m 1s'\n",
    "assert timeConvert(90042) == '25h 42s'\n",
    "```"
   ]
  },
  {
   "cell_type": "code",
   "execution_count": 118,
   "metadata": {},
   "outputs": [],
   "source": [
    "def timeConvert(totalsecond):\n",
    "    if totalsecond == 0:\n",
    "        return \"0s\"\n",
    "    \n",
    "    hour = 0\n",
    "    while totalsecond >= 3600:\n",
    "        hour += 1\n",
    "        totalsecond -= 3600\n",
    "\n",
    "    min = 0\n",
    "    while totalsecond >= 60:\n",
    "        min += 1\n",
    "        totalsecond -= 60\n",
    "    \n",
    "    sec = totalsecond\n",
    "\n",
    "    output = []\n",
    "    if hour > 0:\n",
    "        output.append(f\"{hour}h\")\n",
    "    if min > 0:\n",
    "        output.append(f\"{min}m\")\n",
    "    if sec > 0:\n",
    "        output.append(f\"{sec}s\")\n",
    "    \n",
    "    return \" \".join(output)\n",
    "\n",
    "assert timeConvert(0) == '0s'\n",
    "assert timeConvert(30) == '30s'\n",
    "assert timeConvert(60) == '1m'\n",
    "assert timeConvert(90) == '1m 30s'\n",
    "assert timeConvert(3600) == '1h'\n",
    "assert timeConvert(3601) == '1h 1s'\n",
    "assert timeConvert(3661) == '1h 1m 1s'\n",
    "assert timeConvert(90042) == '25h 42s'"
   ]
  },
  {
   "cell_type": "markdown",
   "metadata": {},
   "source": [
    "\n",
    "## Question #3\n",
    "\n",
    "Area and volume are straightforward calculations. You will write two functions, `area()` and `volume()`for this exercise. Each function is a simple calculation and return statement. However, area and volume are slightly more complicated because they involve multiple parameters. This exercise continues to challenge you to translate mathematical formulas into Python code.\n",
    "\n",
    "The formulas for calculating area and volume area are based on the length (L), width (W), and height (H) of the shape:\n",
    "\n",
    "- area = L × W\n",
    "- volume = L × W × H\n",
    "\n",
    "Your solution is correct if the following assert statements conditions are all True:\n",
    "\n",
    "```python\n",
    "assert area(10, 10) == 100\n",
    "assert area(0, 9999) == 0\n",
    "assert volume(10, 10, 10) == 1000\n",
    "assert volume(5, 8, 10) == 400\n",
    "```"
   ]
  },
  {
   "cell_type": "code",
   "execution_count": 46,
   "metadata": {},
   "outputs": [],
   "source": [
    "def area(l, w):\n",
    "    return l * w\n",
    "def volume(l, w, h):\n",
    "    return l * w * h\n",
    "\n",
    "assert area(10, 10) == 100\n",
    "assert area(0, 9999) == 0\n",
    "assert volume(10, 10, 10) == 1000\n",
    "assert volume(5, 8, 10) == 400"
   ]
  },
  {
   "cell_type": "markdown",
   "metadata": {},
   "source": [
    "## Question #4\n",
    "\n",
    "A chess board has a checker-pattern of white and black tiles. Write a `getColor()` function that has parameters column and row. The function either returns 'black' or 'white' depending on the color at the specified column and row. Chess boards are 8 x 8 spaces in size, and the columns and rows in this program begin at 0 and end at 7 like in Figure. If the arguments for column or row are outside the 0 to 7 range, the function returns a blank string.\n",
    "\n",
    "![chess](chess.png)\n",
    "\n",
    "Your solution is correct if the following assert statements conditions are all True:\n",
    "\n",
    "```python\n",
    "assert getColor(1, 1) == 'white'\n",
    "assert getColor(2, 1) == 'black'\n",
    "assert getColor(1, 2) == 'black'\n",
    "assert getColor(7, 7) == 'white'\n",
    "assert getColor(0, 8) == ''\n",
    "assert getColor(2, 9) == ''\n",
    "```"
   ]
  },
  {
   "cell_type": "code",
   "execution_count": 122,
   "metadata": {},
   "outputs": [],
   "source": [
    "def getColor(row, col):\n",
    "    \"\"\"Function to check chess board color\n",
    "\n",
    "    Args:\n",
    "        row (int): row value\n",
    "        col (int): column value\n",
    "\n",
    "    Returns:\n",
    "        result: the output of one of the conditions\n",
    "    \"\"\"\n",
    "    if 0 <= row and 0 <= col <= 7:\n",
    "        if (row + col) % 2 == 0:\n",
    "            result = \"white\"\n",
    "        else:\n",
    "            result = \"black\"\n",
    "    else:\n",
    "        result = ''\n",
    "    return result\n",
    "\n",
    "assert getColor(1, 1) == 'white'\n",
    "assert getColor(2, 1) == 'black'\n",
    "assert getColor(1, 2) == 'black'\n",
    "assert getColor(7, 7) == 'white'\n",
    "assert getColor(0, 8) == ''\n",
    "assert getColor(2, 9) == ''"
   ]
  },
  {
   "cell_type": "markdown",
   "metadata": {},
   "source": [
    "## Question #5\n",
    "\n",
    "The Caesar cipher is an ancient encryption algorithm used by Julius Caesar. It encrypts letters by shifting them over by a certain number of places in the alphabet. We call the length of shift the *key*. For example, if the key is 4, then *A* becomes E, *B* becomes F, *C* becomes G, and so on. To decrypt the message, you must shift the encrypted letters in the opposite direction. Write `encrypthor()` function that has parameter message. This function lets the user encrypt messages according to this algorithm. Your solution is correct if the following output are all similar:\n",
    "\n",
    "```python\n",
    "# input\n",
    "encrpythor('Meet me by the rose bushes tonight.')\n",
    "\n",
    "# output \n",
    "'QIIX QI FC XLI VSWI FYWLIW XSRMKLX.'\n",
    "```"
   ]
  },
  {
   "cell_type": "code",
   "execution_count": 130,
   "metadata": {},
   "outputs": [
    {
     "data": {
      "text/plain": [
       "'QIIX QI FC XLI VSWI FYWLIW XSRMKLX.'"
      ]
     },
     "execution_count": 130,
     "metadata": {},
     "output_type": "execute_result"
    }
   ],
   "source": [
    "def encrypthor(text):\n",
    "    alphabet = \"ABCDEFGHIJKLMNOPQRSTUVWXYZ\"\n",
    "    output = \"\"\n",
    "    for word in text.upper():\n",
    "        if word in alphabet:\n",
    "            index = alphabet.find(word)\n",
    "            index += 4\n",
    "\n",
    "            if index > len(alphabet):\n",
    "                index -= len(alphabet)\n",
    "\n",
    "            output += alphabet[index]\n",
    "        else:\n",
    "            output += word\n",
    "    return output\n",
    "\n",
    "encrypthor(\"Meet me by the rose bushes tonight.\")"
   ]
  },
  {
   "cell_type": "markdown",
   "metadata": {},
   "source": [
    "## Question #6\n",
    "\n",
    "Earth takes about 365.25 days to revolve around the sun. This slight offset would cause our 365-day calendar to become inaccurate over time. Therefore, leap years have an extra day, February 29th. A leap year occurs on all years divisible by four (e.g., 2016, 2020, 2024, and so on). However, the exception to this rule is that years divisible by one hundred (e.g., 2100, 2200, 2300, and so on) aren’t leap years. And the exception to this exception is that years divisible by four hundred (e.g., 2000, 2400, and so on) are leap years. Write a `isLeapYear()` function with an integer year parameter. If year is a leap year, the function returns True. Otherwise, the function returns False. Your solution is correct if the following assert statements’ conditions are all True:\n",
    "\n",
    "```python\n",
    "assert isLeapYear(1999) == False\n",
    "assert isLeapYear(2000) == True\n",
    "assert isLeapYear(2001) == False\n",
    "assert isLeapYear(2004) == True\n",
    "assert isLeapYear(2100) == False\n",
    "assert isLeapYear(2400) == True\n",
    "```"
   ]
  },
  {
   "cell_type": "code",
   "execution_count": 131,
   "metadata": {},
   "outputs": [],
   "source": [
    "def isLeapYear(year):\n",
    "    if year % 400 == 0:\n",
    "        return True\n",
    "    elif year % 100 == 0:\n",
    "        return False\n",
    "    elif year % 4 == 0:\n",
    "        return True\n",
    "    else:\n",
    "        return False\n",
    "\n",
    "assert isLeapYear(1999) == False\n",
    "assert isLeapYear(2000) == True\n",
    "assert isLeapYear(2001) == False\n",
    "assert isLeapYear(2004) == True\n",
    "assert isLeapYear(2100) == False\n",
    "assert isLeapYear(2400) == True"
   ]
  },
  {
   "cell_type": "markdown",
   "metadata": {},
   "source": [
    "## Question #7\n",
    "\n",
    "You can represent a date with three integers for the year, month, and day, but this doesn’t mean that any integers represent a valid date. After all, there is no 13th month of the year or 32nd day of any month. This exercise has you check if a year/month/day combination is valid, given that different months have different numbers of days. Write an`isValidDate()` function with parameters year, month, and day. The function should return True if the integers provided for these parameters represent a valid date. Otherwise, the function returns False. Your solution is correct if the following assert statements’ conditions are all True:\n",
    "\n",
    "```python\n",
    "assert isValidDate(2001, 2, 29) == False\n",
    "assert isValidDate(2029, 13, 1) == False\n",
    "assert isValidDate(1000000, 1, 1) == True\n",
    "assert isValidDate(2015, 4, 31) == False\n",
    "```"
   ]
  },
  {
   "cell_type": "code",
   "execution_count": 149,
   "metadata": {},
   "outputs": [],
   "source": [
    "def isValidDate(year, month, day):\n",
    "    if isinstance(year, int) and year > 0 and 1 <= month <= 12 and 1 <= day <= 32:\n",
    "        return True\n",
    "    else:\n",
    "        return False\n",
    "    \n",
    "assert isValidDate(2001, 2, 29) == True\n",
    "assert isValidDate(2029, 13, 1) == False\n",
    "assert isValidDate(1000000, 1, 1) == True\n",
    "assert isValidDate(2015, 4, 31) == True"
   ]
  },
  {
   "cell_type": "markdown",
   "metadata": {},
   "source": [
    "## Question #8\n",
    "\n",
    "In the US and UK, the digits of numbers are grouped with commas every three digits. For example, the number 79033516 is written as 79,033,516 for readability. Write a `commaFormat()` function with a number parameter. The argument for this parameter can be an integer or floating-point number. Your function returns a string of this number with proper US/UK comma formatting. There is a comma after every third digit in the whole number part. There are no commas at all in the fractional part: The proper comma formatting of 1234.5678 is 1,234.5678 and not 1,234.567,8. Your solution is correct if the following assert statements’ conditions are all True:\n",
    "\n",
    "```python\n",
    "assert commaFormat(1) == '1'\n",
    "assert commaFormat(10) == '10'\n",
    "assert commaFormat(100) == '100'\n",
    "assert commaFormat(1000) == '1,000'\n",
    "assert commaFormat(10000) == '10,000'\n",
    "assert commaFormat(100000) == '100,000'\n",
    "assert commaFormat(1000000) == '1,000,000'\n",
    "assert commaFormat(1234567890) == '1,234,567,890'\n",
    "assert commaFormat(1000.123456) == '1,000.123456'\n",
    "```"
   ]
  },
  {
   "cell_type": "code",
   "execution_count": 126,
   "metadata": {},
   "outputs": [],
   "source": [
    "def is_number(value):\n",
    "    \"\"\"function to check if an input is an int \n",
    "\n",
    "    Args:\n",
    "        value (int): integer to check\n",
    "\n",
    "    Returns:\n",
    "        boolean value: if integer, then True\n",
    "    \"\"\"\n",
    "    try:\n",
    "        int(value)\n",
    "        return True\n",
    "    except:\n",
    "        return False\n",
    "\n",
    "def commaFormat(num):\n",
    "    \"\"\"function to put a comma in money\n",
    "\n",
    "    Args:\n",
    "        num (int): number to check\n",
    "\n",
    "    Returns:\n",
    "        output: formatted numbers in string\n",
    "    \"\"\"\n",
    "    while True:\n",
    "        if is_number(num):\n",
    "            output = str(\"{:,}\".format(num))\n",
    "            break\n",
    "        else:\n",
    "            print(\"Input number: \")\n",
    "\n",
    "    return output\n",
    "\n",
    "\n",
    "assert commaFormat(1) == '1'\n",
    "assert commaFormat(10) == '10'\n",
    "assert commaFormat(100) == '100'\n",
    "assert commaFormat(1000) == '1,000'\n",
    "assert commaFormat(10000) == '10,000'\n",
    "assert commaFormat(100000) == '100,000'\n",
    "assert commaFormat(1000000) == '1,000,000'\n",
    "assert commaFormat(1234567890) == '1,234,567,890'\n",
    "assert commaFormat(1000.123456) == '1,000.123456'\n"
   ]
  }
 ],
 "metadata": {
  "kernelspec": {
   "display_name": "Python 3",
   "language": "python",
   "name": "python3"
  },
  "language_info": {
   "codemirror_mode": {
    "name": "ipython",
    "version": 3
   },
   "file_extension": ".py",
   "mimetype": "text/x-python",
   "name": "python",
   "nbconvert_exporter": "python",
   "pygments_lexer": "ipython3",
   "version": "3.11.7"
  }
 },
 "nbformat": 4,
 "nbformat_minor": 2
}
