{
 "cells": [
  {
   "cell_type": "markdown",
   "metadata": {},
   "source": [
    "Nama: Adelia Januarto"
   ]
  },
  {
   "cell_type": "markdown",
   "metadata": {},
   "source": [
    "# Question 1"
   ]
  },
  {
   "cell_type": "code",
   "execution_count": 15,
   "metadata": {},
   "outputs": [
    {
     "name": "stdout",
     "output_type": "stream",
     "text": [
      "The length of your first name letter: 8\n"
     ]
    }
   ],
   "source": [
    "user_name = input(\"Enter your name: \")\n",
    "user_name = user_name.split()\n",
    "first_name = user_name[0]\n",
    "first_name = len(first_name)\n",
    "print(f\"The length of your first name letter: {first_name}\")"
   ]
  },
  {
   "cell_type": "markdown",
   "metadata": {},
   "source": [
    "# Question 2"
   ]
  },
  {
   "cell_type": "code",
   "execution_count": 21,
   "metadata": {},
   "outputs": [
    {
     "data": {
      "text/plain": [
       "'HFNAAISMOO'"
      ]
     },
     "execution_count": 21,
     "metadata": {},
     "output_type": "execute_result"
    }
   ],
   "source": [
    "user_name = input(\"Enter your name: \")\n",
    "# remove space\n",
    "user_name_no_space = user_name.replace(\" \", \"\")\n",
    "# change to lowercase\n",
    "user_name_upper = user_name_no_space.upper()\n",
    "# slice\n",
    "user_name_upper[1::2]\n"
   ]
  },
  {
   "cell_type": "markdown",
   "metadata": {},
   "source": [
    "# Question 3"
   ]
  },
  {
   "cell_type": "code",
   "execution_count": 29,
   "metadata": {},
   "outputs": [
    {
     "name": "stdout",
     "output_type": "stream",
     "text": [
      "\n",
      "total: 22\n",
      "reverse: 7654\n",
      "\n"
     ]
    }
   ],
   "source": [
    "num = input(\"Enter your number: \")\n",
    "# total \n",
    "total = sum(int(d) for d in num)\n",
    "# reverse\n",
    "reverse = num[::-1]\n",
    "# display result\n",
    "print(f\"\"\"\n",
    "total: {total}\n",
    "reverse: {reverse}\n",
    "\"\"\")"
   ]
  },
  {
   "cell_type": "markdown",
   "metadata": {},
   "source": [
    "# Question 4"
   ]
  },
  {
   "cell_type": "code",
   "execution_count": 89,
   "metadata": {},
   "outputs": [
    {
     "name": "stdout",
     "output_type": "stream",
     "text": [
      "\n",
      "slope: 2\n",
      "distance: 2.236\n",
      "\n"
     ]
    }
   ],
   "source": [
    "x1 = int(input(\"Input the x1: \"))\n",
    "y1 = int(input(\"Input the y1: \"))\n",
    "x2 = int(input(\"Input the x2: \"))\n",
    "y2 = int(input(\"Input the y2: \"))\n",
    "\n",
    "import math\n",
    "distance = round(math.dist([x1, y1], [x2, y2]), 3)\n",
    "slope = int((y2-y1)/(x2-x1)) # ganti flat() saja\n",
    "\n",
    "print(f\"\"\"\n",
    "slope: {slope}\n",
    "distance: {distance}\n",
    "\"\"\")"
   ]
  },
  {
   "cell_type": "markdown",
   "metadata": {},
   "source": [
    "**Note**: x1, y1 = input(\"Masukkan angka: \").split(,)"
   ]
  },
  {
   "cell_type": "markdown",
   "metadata": {},
   "source": [
    "# Question 5"
   ]
  },
  {
   "cell_type": "markdown",
   "metadata": {},
   "source": [
    "## Method 1"
   ]
  },
  {
   "cell_type": "code",
   "execution_count": 84,
   "metadata": {},
   "outputs": [
    {
     "name": "stdout",
     "output_type": "stream",
     "text": [
      "dhiwa purka\n"
     ]
    }
   ],
   "source": [
    "user_input = input(\"Enter the sample string: \")\n",
    "user_input1, user_input2 = user_input.replace(\",\", \"\").split()\n",
    "print(f'{user_input2[0:3]}{user_input1[3:]} {user_input1[0:3]}{user_input2[3:]}')"
   ]
  },
  {
   "cell_type": "markdown",
   "metadata": {},
   "source": [
    "## Method 2"
   ]
  },
  {
   "cell_type": "code",
   "execution_count": 95,
   "metadata": {},
   "outputs": [
    {
     "name": "stdout",
     "output_type": "stream",
     "text": [
      "dhiwa purka\n"
     ]
    }
   ],
   "source": [
    "user_input = input(\"Enter the sample string: \") # split bisa taruh sini\n",
    "user_input = user_input.split(\",\")\n",
    "text1 = user_input[0]\n",
    "text2 = user_input[1]\n",
    "print(f\"{text2[0:3]}{text1[3:]} {text1[0:3]}{text2[3:]}\")"
   ]
  },
  {
   "cell_type": "markdown",
   "metadata": {},
   "source": [
    "# Question 6"
   ]
  },
  {
   "cell_type": "code",
   "execution_count": 62,
   "metadata": {},
   "outputs": [
    {
     "data": {
      "text/plain": [
       "'jPKdaA'"
      ]
     },
     "execution_count": 62,
     "metadata": {},
     "output_type": "execute_result"
    }
   ],
   "source": [
    "first_text = input(\"Enter your first text: \")\n",
    "second_text = input(\"Enter your second text: \")\n",
    "\n",
    "# first text\n",
    "first_text_first = first_text[0]\n",
    "first_text_middle = first_text[5]\n",
    "first_text_last = first_text[-1]\n",
    "# second text\n",
    "second_text_first = second_text[0]\n",
    "second_text_middle = second_text[5]\n",
    "second_text_last = second_text[-1]\n",
    "\n",
    "# combine\n",
    "\"\".join([first_text_first, second_text_first, first_text_middle, second_text_middle, first_text_last, second_text_last])"
   ]
  },
  {
   "cell_type": "markdown",
   "metadata": {},
   "source": [
    "**Note**: To find the middle character, use `middle = int(len(word)//2)`\n",
    "text[middle]"
   ]
  },
  {
   "cell_type": "markdown",
   "metadata": {},
   "source": [
    "# Question 7"
   ]
  },
  {
   "cell_type": "code",
   "execution_count": 99,
   "metadata": {},
   "outputs": [
    {
     "name": "stdout",
     "output_type": "stream",
     "text": [
      "The result is JC0310DS\n"
     ]
    }
   ],
   "source": [
    "first_input = input(\"Enter the first text: \")\n",
    "second_input = input(\"Enter the second text: \")\n",
    "\n",
    "both = first_input[:2] + second_input + first_input[2:]\n",
    "print(f\"The result is {both}\")"
   ]
  },
  {
   "cell_type": "code",
   "execution_count": 101,
   "metadata": {},
   "outputs": [
    {
     "name": "stdout",
     "output_type": "stream",
     "text": [
      "The result is JC1DS\n"
     ]
    }
   ],
   "source": [
    "first_input = input(\"Enter the first text: \")\n",
    "second_input = input(\"Enter the second text: \")\n",
    "\n",
    "both = first_input[:2] + second_input[int(len(second_input)/2)] + first_input[2:]\n",
    "print(f\"The result is {both}\")"
   ]
  },
  {
   "cell_type": "code",
   "execution_count": 102,
   "metadata": {},
   "outputs": [
    {
     "name": "stdout",
     "output_type": "stream",
     "text": [
      "The result is JC0310DS\n"
     ]
    }
   ],
   "source": [
    "first_input = input(\"Enter the first text: \")\n",
    "second_input = input(\"Enter the second text: \")\n",
    "mid = len(first_input)//2\n",
    "both = first_input[:mid] + second_input + first_input[mid:]\n",
    "print(f\"The result is {both}\")"
   ]
  },
  {
   "cell_type": "code",
   "execution_count": null,
   "metadata": {},
   "outputs": [],
   "source": []
  }
 ],
 "metadata": {
  "kernelspec": {
   "display_name": "Python 3",
   "language": "python",
   "name": "python3"
  },
  "language_info": {
   "codemirror_mode": {
    "name": "ipython",
    "version": 3
   },
   "file_extension": ".py",
   "mimetype": "text/x-python",
   "name": "python",
   "nbconvert_exporter": "python",
   "pygments_lexer": "ipython3",
   "version": "3.11.7"
  }
 },
 "nbformat": 4,
 "nbformat_minor": 2
}
